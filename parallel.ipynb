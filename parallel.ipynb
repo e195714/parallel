{
 "cells": [
  {
   "cell_type": "code",
   "execution_count": 2,
   "id": "399e9ba5-c41d-4781-9f4f-d8b0bc082adf",
   "metadata": {},
   "outputs": [],
   "source": [
    "import time\n",
    "import numpy as np\n",
    "from PIL import Image\n",
    "from multiprocessing import Pool, Queue, Process\n",
    "import multiprocessing\n",
    "\n",
    "# from util.estimator import Estimate"
   ]
  },
  {
   "cell_type": "code",
   "execution_count": 3,
   "id": "94b63d75-abe5-4343-9f9d-2d20da462e21",
   "metadata": {},
   "outputs": [],
   "source": [
    "def load_image_list(path):\n",
    "    \"\"\"画像ファイル名のリストを読み込む\"\"\"\n",
    "    with open(path) as f:\n",
    "        lines = [x.strip() for x in f.readlines()]\n",
    "    return np.array(lines)\n",
    "\n",
    "def load_image_data(filename):\n",
    "    \"\"\"画像を読み込む\"\"\"\n",
    "    with Image.open(filename) as img:\n",
    "        image = np.asarray(img.resize((256,256)).convert('RGB'), dtype=np.float32)\n",
    "    return image"
   ]
  },
  {
   "cell_type": "code",
   "execution_count": 4,
   "id": "60d5f7f7-356c-49f2-b594-c93a3e33d2e8",
   "metadata": {},
   "outputs": [
    {
     "ename": "FileNotFoundError",
     "evalue": "[Errno 2] No such file or directory: 'image_list.txt'",
     "output_type": "error",
     "traceback": [
      "\u001b[1;31m---------------------------------------------------------------------------\u001b[0m",
      "\u001b[1;31mFileNotFoundError\u001b[0m                         Traceback (most recent call last)",
      "\u001b[1;32m<ipython-input-4-2be6465738db>\u001b[0m in \u001b[0;36m<module>\u001b[1;34m\u001b[0m\n\u001b[1;32m----> 1\u001b[1;33m \u001b[0mdatas\u001b[0m \u001b[1;33m=\u001b[0m \u001b[0mload_image_list\u001b[0m\u001b[1;33m(\u001b[0m\u001b[0mpath\u001b[0m\u001b[1;33m=\u001b[0m\u001b[1;34m'image_list.txt'\u001b[0m\u001b[1;33m)\u001b[0m\u001b[1;33m\u001b[0m\u001b[1;33m\u001b[0m\u001b[0m\n\u001b[0m\u001b[0;32m      2\u001b[0m \u001b[0mprint\u001b[0m\u001b[1;33m(\u001b[0m\u001b[1;34m'sample length:\\t{}'\u001b[0m\u001b[1;33m.\u001b[0m\u001b[0mformat\u001b[0m\u001b[1;33m(\u001b[0m\u001b[0mlen\u001b[0m\u001b[1;33m(\u001b[0m\u001b[0mdatas\u001b[0m\u001b[1;33m)\u001b[0m\u001b[1;33m)\u001b[0m\u001b[1;33m)\u001b[0m\u001b[1;33m\u001b[0m\u001b[1;33m\u001b[0m\u001b[0m\n\u001b[0;32m      3\u001b[0m \u001b[1;33m\u001b[0m\u001b[0m\n\u001b[0;32m      4\u001b[0m \u001b[0mcpu\u001b[0m \u001b[1;33m=\u001b[0m \u001b[1;36m4\u001b[0m \u001b[1;31m#multiprocessing.cpu_count()\u001b[0m\u001b[1;33m\u001b[0m\u001b[1;33m\u001b[0m\u001b[0m\n\u001b[0;32m      5\u001b[0m \u001b[0mprint\u001b[0m\u001b[1;33m(\u001b[0m\u001b[1;34m'number of cpu:\\t{}'\u001b[0m\u001b[1;33m.\u001b[0m\u001b[0mformat\u001b[0m\u001b[1;33m(\u001b[0m\u001b[0mcpu\u001b[0m\u001b[1;33m)\u001b[0m\u001b[1;33m)\u001b[0m\u001b[1;33m\u001b[0m\u001b[1;33m\u001b[0m\u001b[0m\n",
      "\u001b[1;32m<ipython-input-3-5fb8bcded3cc>\u001b[0m in \u001b[0;36mload_image_list\u001b[1;34m(path)\u001b[0m\n\u001b[0;32m      1\u001b[0m \u001b[1;32mdef\u001b[0m \u001b[0mload_image_list\u001b[0m\u001b[1;33m(\u001b[0m\u001b[0mpath\u001b[0m\u001b[1;33m)\u001b[0m\u001b[1;33m:\u001b[0m\u001b[1;33m\u001b[0m\u001b[1;33m\u001b[0m\u001b[0m\n\u001b[0;32m      2\u001b[0m     \u001b[1;34m\"\"\"画像ファイル名のリストを読み込む\"\"\"\u001b[0m\u001b[1;33m\u001b[0m\u001b[1;33m\u001b[0m\u001b[0m\n\u001b[1;32m----> 3\u001b[1;33m     \u001b[1;32mwith\u001b[0m \u001b[0mopen\u001b[0m\u001b[1;33m(\u001b[0m\u001b[0mpath\u001b[0m\u001b[1;33m)\u001b[0m \u001b[1;32mas\u001b[0m \u001b[0mf\u001b[0m\u001b[1;33m:\u001b[0m\u001b[1;33m\u001b[0m\u001b[1;33m\u001b[0m\u001b[0m\n\u001b[0m\u001b[0;32m      4\u001b[0m         \u001b[0mlines\u001b[0m \u001b[1;33m=\u001b[0m \u001b[1;33m[\u001b[0m\u001b[0mx\u001b[0m\u001b[1;33m.\u001b[0m\u001b[0mstrip\u001b[0m\u001b[1;33m(\u001b[0m\u001b[1;33m)\u001b[0m \u001b[1;32mfor\u001b[0m \u001b[0mx\u001b[0m \u001b[1;32min\u001b[0m \u001b[0mf\u001b[0m\u001b[1;33m.\u001b[0m\u001b[0mreadlines\u001b[0m\u001b[1;33m(\u001b[0m\u001b[1;33m)\u001b[0m\u001b[1;33m]\u001b[0m\u001b[1;33m\u001b[0m\u001b[1;33m\u001b[0m\u001b[0m\n\u001b[0;32m      5\u001b[0m     \u001b[1;32mreturn\u001b[0m \u001b[0mnp\u001b[0m\u001b[1;33m.\u001b[0m\u001b[0marray\u001b[0m\u001b[1;33m(\u001b[0m\u001b[0mlines\u001b[0m\u001b[1;33m)\u001b[0m\u001b[1;33m\u001b[0m\u001b[1;33m\u001b[0m\u001b[0m\n",
      "\u001b[1;31mFileNotFoundError\u001b[0m: [Errno 2] No such file or directory: 'image_list.txt'"
     ]
    }
   ],
   "source": [
    "datas = load_image_list(path='image_list.txt')\n",
    "print('sample length:\\t{}'.format(len(datas)))\n",
    "\n",
    "cpu = 4 #multiprocessing.cpu_count()\n",
    "print('number of cpu:\\t{}'.format(cpu))"
   ]
  },
  {
   "cell_type": "code",
   "execution_count": 7,
   "id": "3da6a9a2-a0df-426e-acb0-6364a939ce30",
   "metadata": {},
   "outputs": [
    {
     "name": "stdout",
     "output_type": "stream",
     "text": [
      "C:\\Users\\keigo\\parallel\n"
     ]
    }
   ],
   "source": [
    "num = 100\n",
    "indexes = np.random.permutation(num)\n",
    "filenames = datas[indexes]\n",
    "\n",
    "print(\"==シングルプロセス==\")\n",
    "%time [load_image_data(filename) for filename in filenames]\n",
    "pool = Pool(cpu)\n",
    "print(\"==マルチプロセス==\")\n",
    "%time pool.map(load_image_data, filenames)\n",
    "pool.close()"
   ]
  },
  {
   "cell_type": "code",
   "execution_count": null,
   "id": "5fa79b75-4a9e-4cbd-b850-931b42edfc5c",
   "metadata": {},
   "outputs": [],
   "source": [
    "num = 500\n",
    "indexes = np.random.permutation(num)\n",
    "filenames = datas[indexes]\n",
    "\n",
    "print(\"==シングルプロセス==\")\n",
    "%time [load_image_data(filename) for filename in filenames]\n",
    "pool = Pool(cpu)\n",
    "print(\"==マルチプロセス==\")\n",
    "%time pool.map(load_image_data, filenames)\n",
    "pool.close()"
   ]
  },
  {
   "cell_type": "code",
   "execution_count": null,
   "id": "e86d27d0-07a0-4985-8f4b-515b7fa015a5",
   "metadata": {},
   "outputs": [],
   "source": [
    "num = 1000\n",
    "indexes = np.random.permutation(num)\n",
    "filenames = datas[indexes]\n",
    "\n",
    "print(\"==シングルプロセス==\")\n",
    "%time [load_image_data(filename) for filename in filenames]\n",
    "pool = Pool(cpu)\n",
    "print(\"==マルチプロセス==\")\n",
    "%time pool.map(load_image_data, filenames)\n",
    "pool.close()"
   ]
  }
 ],
 "metadata": {
  "kernelspec": {
   "display_name": "Python 3",
   "language": "python",
   "name": "python3"
  },
  "language_info": {
   "codemirror_mode": {
    "name": "ipython",
    "version": 3
   },
   "file_extension": ".py",
   "mimetype": "text/x-python",
   "name": "python",
   "nbconvert_exporter": "python",
   "pygments_lexer": "ipython3",
   "version": "3.7.10"
  }
 },
 "nbformat": 4,
 "nbformat_minor": 5
}
